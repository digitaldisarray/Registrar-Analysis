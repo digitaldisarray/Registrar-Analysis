{
 "cells": [
  {
   "cell_type": "markdown",
   "id": "8251b6ea-ae8b-4ecf-8699-6e7f85da22fd",
   "metadata": {},
   "source": [
    "Consolidates Registrars found in our complaint data that have identical contact information \n",
    "\n",
    "With deduplication based upon numbers, we found that 100/371 remaining unique registrars actually appeared to belong to network systems, because they mentioned them somewhere in the contact row. Time on the wayback machine checking some of the domains forming some of their 'registrar names' confirmed almost all redirected to snapnames, and *never* appeared to be independent registrars, at least as of ~2006.\n",
    "\n",
    "A couple mention network systems in contact information, but appear to have their own websites, so we will only take those which list networksystems as their *link*, and there is no indication of them being actual registrars.\n",
    "\n",
    "Reads in and over-writes most_malicious. Kind of yikes maybe."
   ]
  },
  {
   "cell_type": "code",
   "execution_count": null,
   "id": "00fb1e95-3041-4afa-bee5-2ff43837fe9b",
   "metadata": {},
   "outputs": [],
   "source": [
    "import pandas as pd"
   ]
  },
  {
   "cell_type": "code",
   "execution_count": null,
   "id": "f05f1918-7047-4bee-a374-fb96ea6a385e",
   "metadata": {},
   "outputs": [],
   "source": [
    "df = pd.read_json('/data/all_types_domains_balanced_registered_domains_whois_parsed_correct_registrar_names_deduplicated_ids.json', lines=True)\n",
    "registrars = pd.read_csv(\"/data/Accredited-Registrars-202412054424.csv\")\n",
    "registrars_interesting = registrars[['Country/Territory','Public Contact','Link','IANA Number']]"
   ]
  },
  {
   "cell_type": "code",
   "execution_count": null,
   "id": "03e76d91-5e86-4717-bfdc-3ab7db493c7d",
   "metadata": {},
   "outputs": [],
   "source": [
    "# First, we'll tack on the ICANN contact info for every entry that has it available for the registrar in question\n",
    "size_before = len(df)\n",
    "df = pd.merge(df,registrars_interesting,how='left',left_on='registrar_id',right_on='IANA Number',suffixes=(None,None))\n",
    "del df['IANA Number'] # Redundant, just needed to merge on\n",
    "assert(size_before == len(df)) # We shouldn't lose/gain any entries when merging"
   ]
  },
  {
   "cell_type": "code",
   "execution_count": null,
   "id": "8e21ba0d-2915-41b2-9a90-6b1ff25f95c6",
   "metadata": {},
   "outputs": [],
   "source": [
    "# It's a one-liner, surprise! We replace it with the first registrar_id which might be messy, visually.\n",
    "df['registrar_id'] = df.groupby('Link')['registrar_id'].transform('first')"
   ]
  },
  {
   "cell_type": "code",
   "execution_count": null,
   "id": "5897baa2-5888-4a76-9686-a80a4f67ff38",
   "metadata": {},
   "outputs": [],
   "source": [
    "# This is for aesthetic convenience: network solutions appears to be the biggest offenders, so we manually rename\n",
    "df.loc[df['Link'] == 'http://www.networksolutions.com', 'registrar_id'] = 2\n",
    "df.loc[df['registrar_id'] == 2, 'registrar'] = \"Network Solutions, LLC\"\n",
    "# Other registrars that get consolidated may instead have unexpected names, but their information is still correct."
   ]
  },
  {
   "cell_type": "code",
   "execution_count": null,
   "id": "9cd91678-2f7a-4eb1-aa5e-a603512763d5",
   "metadata": {},
   "outputs": [],
   "source": [
    "df.to_json(\"/data/all_types_domains_balanced_registered_domains_whois_parsed_correct_registrar_names_deduplicated_ids_links.json\",orient='records',lines=True)"
   ]
  },
  {
   "cell_type": "code",
   "execution_count": null,
   "id": "b269cffd-e4d3-4701-af4d-a82408f5a65c",
   "metadata": {},
   "outputs": [],
   "source": [
    "# PART 2: domain counts\n",
    "# Now let's do the same for the deduplicated registrars count\n",
    "df = pd.read_json(\"/data/registrar_domain_count_flat_deduplicated.json\", lines=True)\n",
    "registrars_interesting = registrars[['Link','IANA Number']] # Minimal"
   ]
  },
  {
   "cell_type": "code",
   "execution_count": null,
   "id": "f64853fb-78b8-4d94-8a52-765778550540",
   "metadata": {},
   "outputs": [],
   "source": [
    "# Deja vu\n",
    "size_before = len(df)\n",
    "df = pd.merge(df,registrars_interesting,how='left',left_on='id',right_on='IANA Number',suffixes=(None,None))\n",
    "del df['IANA Number'] # Redundant, just needed to merge on\n",
    "assert(size_before == len(df)) # We shouldn't lose/gain any entries when merging"
   ]
  },
  {
   "cell_type": "code",
   "execution_count": null,
   "id": "d8cf7a2c-adbe-42c5-ad63-4e264af242be",
   "metadata": {},
   "outputs": [],
   "source": [
    "# Copy-pasta from deduplicate_shell_companies.py with a different groupby\n",
    "df = df.groupby('Link').agg({\n",
    "    'id': 'first',  # Choose the first ID as the new ID for this group\n",
    "    'name': 'first',\n",
    "    'domains': 'sum',\n",
    "    'share': 'sum',\n",
    "    'tlds': 'max',\n",
    "    'signedZones': 'sum', # I think its correct to sum these?\n",
    "    'upcomingDeletes': 'sum', # I think its correct to sum these?\n",
    "}).reset_index()"
   ]
  },
  {
   "cell_type": "code",
   "execution_count": null,
   "id": "33b51b3d-a226-45c6-8402-e781fc316b81",
   "metadata": {},
   "outputs": [],
   "source": [
    "# Ditto rename, but also this time is important to make sure it's all working right!!\n",
    "df.loc[df['Link'] == 'http://www.networksolutions.com', 'id'] = 2\n",
    "df.loc[df['id'] == 2, 'name'] = \"Network Solutions, LLC\""
   ]
  },
  {
   "cell_type": "code",
   "execution_count": null,
   "id": "7dd1e6be-5800-42ae-82ae-c1a7c2f6c62a",
   "metadata": {},
   "outputs": [],
   "source": [
    "del df['Link'] # phoenix stop blowing up dataset size challenge\n",
    "df.to_json(\"/data/registrar_domain_count_flat_deduplicated_links.json\", orient='records', lines=True)"
   ]
  }
 ],
 "metadata": {
  "kernelspec": {
   "display_name": "Python 3 (ipykernel)",
   "language": "python",
   "name": "python3"
  },
  "language_info": {
   "codemirror_mode": {
    "name": "ipython",
    "version": 3
   },
   "file_extension": ".py",
   "mimetype": "text/x-python",
   "name": "python",
   "nbconvert_exporter": "python",
   "pygments_lexer": "ipython3",
   "version": "3.10.12"
  }
 },
 "nbformat": 4,
 "nbformat_minor": 5
}

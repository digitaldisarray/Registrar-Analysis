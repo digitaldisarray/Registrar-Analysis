{
 "cells": [
  {
   "cell_type": "code",
   "execution_count": null,
   "id": "0bbcb0d4-13f9-443c-a3e8-0fe446fb303d",
   "metadata": {},
   "outputs": [],
   "source": [
    "import pathlib\n",
    "# Bikeshedding way to write to user directory\n",
    "USER_DIR = str(pathlib.Path.home()) + '/'"
   ]
  },
  {
   "cell_type": "code",
   "execution_count": null,
   "id": "0e891d90-2490-4126-9d4e-670f2ff7269f",
   "metadata": {},
   "outputs": [],
   "source": [
    "#\n",
    "# Load and parse data\n",
    "#\n",
    "\n",
    "import pandas as pd\n",
    "\n",
    "bad_domains_path = '/data/all_types_domains_balanced_registered_domains_whois_parsed_correct_registrar_names_deduplicated_ids_links.json'\n",
    "registar_domain_count_path = '/data/registrar_domain_count_flat_deduplicated_links.json'\n",
    "\n",
    "bad_domains = pd.read_json(bad_domains_path, lines=True)\n",
    "bad_domains = bad_domains.dropna(subset=['domain', 'created', 'registrar', 'registrar_id']) # drop nulls\n",
    "# IANA ID 9999 is reserved for Registries acting as Registrars. Out of our scope. This is 16 domains from .pw and .gal\n",
    "bad_domains = bad_domains[bad_domains['registrar_id'] != 9999]\n",
    "# This dataset has a new entry for every time the WHOIS server was polled - we only want the one entry of a domain PER registrar\n",
    "# Some domains have historically been registered at multiple registrars. This removes duplicates without removing that history\n",
    "bad_domains = bad_domains.drop_duplicates(subset=['registrar_id', 'domain'], keep='first')\n",
    "\n",
    "registrar_domain_count = pd.read_json(registar_domain_count_path, lines=True)"
   ]
  },
  {
   "cell_type": "code",
   "execution_count": null,
   "id": "b46c6f07-815c-49bc-8f78-7bb40a43f83a",
   "metadata": {},
   "outputs": [],
   "source": [
    "#\n",
    "# Which registars had the most complaints?\n",
    "#\n",
    "\n",
    "import matplotlib.pyplot as plt\n",
    "\n",
    "# Count the occurrence of each registrar and get top 10\n",
    "registrar_counts = bad_domains['registrar'].value_counts()\n",
    "top_10 = registrar_counts.head(10)\n",
    "\n",
    "# Sum the rest and label as 'Other'\n",
    "other_count = registrar_counts.iloc[10:].sum()\n",
    "other_series = pd.Series({'Other': other_count})\n",
    "top_10 = pd.concat([top_10, other_series])\n",
    "\n",
    "# Plot the results\n",
    "plt.figure(figsize=(8, 6))\n",
    "top_10.plot(kind='bar', color='lightblue')\n",
    "plt.title('Top 10 Registrars and Others')\n",
    "plt.xlabel('Registrar')\n",
    "plt.ylabel('Malicious Domains')\n",
    "plt.xticks(rotation=45, ha='right')\n",
    "plt.tight_layout()\n",
    "plt.show()"
   ]
  },
  {
   "cell_type": "code",
   "execution_count": null,
   "id": "defc42c6-1a62-41da-952b-fefa16e22a5a",
   "metadata": {},
   "outputs": [],
   "source": [
    "#\n",
    "# Which registrars had the most malicious domains per total # of domains registered?\n",
    "#\n",
    "\n",
    "# Step 1: Count the number of malicious domains per registrar\n",
    "# Group by registrar_id and count the domains, while preserving the registrar name\n",
    "malicious_domain_count = bad_domains.groupby(['registrar_id', 'registrar'])['domain'].count().reset_index()\n",
    "malicious_domain_count.rename(columns={'domain': 'malicious_domains'}, inplace=True)\n",
    "\n",
    "# Step 2: Merge with the registrar domain count to get the total number of domains each registrar has\n",
    "registrar_domain_count_copy = registrar_domain_count[['id', 'name', 'domains']].copy()\n",
    "registrar_domain_count_copy.rename(columns={'id': 'registrar_id', 'domains': 'total_domains'}, inplace=True)\n",
    "merged_data = pd.merge(malicious_domain_count, registrar_domain_count_copy, on='registrar_id', how='inner')\n",
    "\n",
    "# Step 2.5: Apply a (arbitrary) threshold for a minimum number of domains tracked to a registrar\n",
    "min_domains_threshold = 1000\n",
    "merged_data = merged_data[merged_data['total_domains'] >= min_domains_threshold]\n",
    "\n",
    "# Step 3: Calculate the ratio of malicious domains to total domains registered for each registrar\n",
    "merged_data['malicious_ratio'] = merged_data['malicious_domains'] / merged_data['total_domains']\n",
    "\n",
    "# Step 4: Sort by the malicious ratio in descending order to find the registrars with the highest ratio\n",
    "sorted_data = merged_data.sort_values(by='malicious_ratio', ascending=False).reset_index()\n",
    "\n",
    "# Display the top registrars with the highest ratio of malicious domains\n",
    "sorted_data[['registrar_id', 'registrar', 'malicious_domains', 'total_domains', 'malicious_ratio']].to_csv(USER_DIR + 'most_malicious.csv', index=False)"
   ]
  },
  {
   "cell_type": "code",
   "execution_count": null,
   "id": "653e5c50-45b8-4ce4-b72e-6e27a444b17b",
   "metadata": {},
   "outputs": [],
   "source": [
    "#\n",
    "# Is there any correlation between price drops and malicious domain purchases?\n",
    "#  - How we quality a price drop: Look back n days from the purchase date. If price went down more than 5%?, that counts as a price drop\n",
    "#\n"
   ]
  },
  {
   "cell_type": "code",
   "execution_count": null,
   "id": "b8c876b5-1e95-4984-be22-24c078693064",
   "metadata": {},
   "outputs": [],
   "source": [
    "#\n",
    "# Is accepting certain payment methods (like crypto) correlated with more malicious domains?\n",
    "#  - Need to match tld list service data with registrar_id's\n",
    "#\n"
   ]
  },
  {
   "cell_type": "code",
   "execution_count": null,
   "id": "3b316d3e-30ce-4b77-885a-7f2f885d0b14",
   "metadata": {},
   "outputs": [],
   "source": [
    "#\n",
    "# What free services are correlated to more malicious domains (if any)?\n",
    "#\n"
   ]
  }
 ],
 "metadata": {
  "kernelspec": {
   "display_name": "Python 3 (ipykernel)",
   "language": "python",
   "name": "python3"
  },
  "language_info": {
   "codemirror_mode": {
    "name": "ipython",
    "version": 3
   },
   "file_extension": ".py",
   "mimetype": "text/x-python",
   "name": "python",
   "nbconvert_exporter": "python",
   "pygments_lexer": "ipython3",
   "version": "3.10.12"
  }
 },
 "nbformat": 4,
 "nbformat_minor": 5
}
